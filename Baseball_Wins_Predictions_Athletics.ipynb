{
  "nbformat": 4,
  "nbformat_minor": 0,
  "metadata": {
    "colab": {
      "name": "Baseball-5.ipynb",
      "provenance": [],
      "collapsed_sections": []
    },
    "kernelspec": {
      "name": "python3",
      "display_name": "Python 3"
    }
  },
  "cells": [
    {
      "cell_type": "code",
      "metadata": {
        "id": "pvfgnvAfmJrh",
        "colab_type": "code",
        "colab": {}
      },
      "source": [
        "import pandas as pd\n",
        "import numpy as np\n",
        "import seaborn as sns\n",
        "import matplotlib.pyplot as plt\n",
        "%matplotlib inline"
      ],
      "execution_count": 0,
      "outputs": []
    },
    {
      "cell_type": "code",
      "metadata": {
        "id": "-ndI-EKWqxf_",
        "colab_type": "code",
        "colab": {
          "resources": {
            "http://localhost:8080/nbextensions/google.colab/files.js": {
              "data": "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",
              "ok": true,
              "headers": [
                [
                  "content-type",
                  "application/javascript"
                ]
              ],
              "status": 200,
              "status_text": "OK"
            }
          },
          "base_uri": "https://localhost:8080/",
          "height": 77
        },
        "outputId": "7824c5c1-f5a0-4e7d-f10d-1707ca762fc6"
      },
      "source": [
        "from google.colab import files\n",
        "uploaded = files.upload()"
      ],
      "execution_count": 12,
      "outputs": [
        {
          "output_type": "display_data",
          "data": {
            "text/html": [
              "\n",
              "     <input type=\"file\" id=\"files-3336f6d5-e7a9-48ba-a2ce-e6b557878513\" name=\"files[]\" multiple disabled />\n",
              "     <output id=\"result-3336f6d5-e7a9-48ba-a2ce-e6b557878513\">\n",
              "      Upload widget is only available when the cell has been executed in the\n",
              "      current browser session. Please rerun this cell to enable.\n",
              "      </output>\n",
              "      <script src=\"/nbextensions/google.colab/files.js\"></script> "
            ],
            "text/plain": [
              "<IPython.core.display.HTML object>"
            ]
          },
          "metadata": {
            "tags": []
          }
        },
        {
          "output_type": "stream",
          "text": [
            "Saving baseball.csv to baseball.csv\n"
          ],
          "name": "stdout"
        }
      ]
    },
    {
      "cell_type": "code",
      "metadata": {
        "id": "U_N479Q7q49X",
        "colab_type": "code",
        "colab": {}
      },
      "source": [
        "df = pd.read_csv('baseball.csv')"
      ],
      "execution_count": 0,
      "outputs": []
    },
    {
      "cell_type": "code",
      "metadata": {
        "id": "J1CES_WeAUxE",
        "colab_type": "code",
        "colab": {
          "base_uri": "https://localhost:8080/",
          "height": 206
        },
        "outputId": "2ca8854a-1c0f-4837-b3ab-65883aaf9fce"
      },
      "source": [
        "df.head()"
      ],
      "execution_count": 201,
      "outputs": [
        {
          "output_type": "execute_result",
          "data": {
            "text/html": [
              "<div>\n",
              "<style scoped>\n",
              "    .dataframe tbody tr th:only-of-type {\n",
              "        vertical-align: middle;\n",
              "    }\n",
              "\n",
              "    .dataframe tbody tr th {\n",
              "        vertical-align: top;\n",
              "    }\n",
              "\n",
              "    .dataframe thead th {\n",
              "        text-align: right;\n",
              "    }\n",
              "</style>\n",
              "<table border=\"1\" class=\"dataframe\">\n",
              "  <thead>\n",
              "    <tr style=\"text-align: right;\">\n",
              "      <th></th>\n",
              "      <th>Team</th>\n",
              "      <th>League</th>\n",
              "      <th>Year</th>\n",
              "      <th>RS</th>\n",
              "      <th>RA</th>\n",
              "      <th>W</th>\n",
              "      <th>OBP</th>\n",
              "      <th>SLG</th>\n",
              "      <th>BA</th>\n",
              "      <th>RankSeason</th>\n",
              "      <th>RankPlayoffs</th>\n",
              "      <th>G</th>\n",
              "      <th>OOBP</th>\n",
              "      <th>OSLG</th>\n",
              "    </tr>\n",
              "  </thead>\n",
              "  <tbody>\n",
              "    <tr>\n",
              "      <th>0</th>\n",
              "      <td>ARI</td>\n",
              "      <td>NL</td>\n",
              "      <td>2012</td>\n",
              "      <td>734</td>\n",
              "      <td>688</td>\n",
              "      <td>81</td>\n",
              "      <td>0.328</td>\n",
              "      <td>0.418</td>\n",
              "      <td>0.259</td>\n",
              "      <td>NaN</td>\n",
              "      <td>NaN</td>\n",
              "      <td>162</td>\n",
              "      <td>0.317</td>\n",
              "      <td>0.415</td>\n",
              "    </tr>\n",
              "    <tr>\n",
              "      <th>1</th>\n",
              "      <td>ATL</td>\n",
              "      <td>NL</td>\n",
              "      <td>2012</td>\n",
              "      <td>700</td>\n",
              "      <td>600</td>\n",
              "      <td>94</td>\n",
              "      <td>0.320</td>\n",
              "      <td>0.389</td>\n",
              "      <td>0.247</td>\n",
              "      <td>4.0</td>\n",
              "      <td>5.0</td>\n",
              "      <td>162</td>\n",
              "      <td>0.306</td>\n",
              "      <td>0.378</td>\n",
              "    </tr>\n",
              "    <tr>\n",
              "      <th>2</th>\n",
              "      <td>BAL</td>\n",
              "      <td>AL</td>\n",
              "      <td>2012</td>\n",
              "      <td>712</td>\n",
              "      <td>705</td>\n",
              "      <td>93</td>\n",
              "      <td>0.311</td>\n",
              "      <td>0.417</td>\n",
              "      <td>0.247</td>\n",
              "      <td>5.0</td>\n",
              "      <td>4.0</td>\n",
              "      <td>162</td>\n",
              "      <td>0.315</td>\n",
              "      <td>0.403</td>\n",
              "    </tr>\n",
              "    <tr>\n",
              "      <th>3</th>\n",
              "      <td>BOS</td>\n",
              "      <td>AL</td>\n",
              "      <td>2012</td>\n",
              "      <td>734</td>\n",
              "      <td>806</td>\n",
              "      <td>69</td>\n",
              "      <td>0.315</td>\n",
              "      <td>0.415</td>\n",
              "      <td>0.260</td>\n",
              "      <td>NaN</td>\n",
              "      <td>NaN</td>\n",
              "      <td>162</td>\n",
              "      <td>0.331</td>\n",
              "      <td>0.428</td>\n",
              "    </tr>\n",
              "    <tr>\n",
              "      <th>4</th>\n",
              "      <td>CHC</td>\n",
              "      <td>NL</td>\n",
              "      <td>2012</td>\n",
              "      <td>613</td>\n",
              "      <td>759</td>\n",
              "      <td>61</td>\n",
              "      <td>0.302</td>\n",
              "      <td>0.378</td>\n",
              "      <td>0.240</td>\n",
              "      <td>NaN</td>\n",
              "      <td>NaN</td>\n",
              "      <td>162</td>\n",
              "      <td>0.335</td>\n",
              "      <td>0.424</td>\n",
              "    </tr>\n",
              "  </tbody>\n",
              "</table>\n",
              "</div>"
            ],
            "text/plain": [
              "  Team League  Year   RS   RA  ...  RankSeason  RankPlayoffs    G   OOBP   OSLG\n",
              "0  ARI     NL  2012  734  688  ...         NaN           NaN  162  0.317  0.415\n",
              "1  ATL     NL  2012  700  600  ...         4.0           5.0  162  0.306  0.378\n",
              "2  BAL     AL  2012  712  705  ...         5.0           4.0  162  0.315  0.403\n",
              "3  BOS     AL  2012  734  806  ...         NaN           NaN  162  0.331  0.428\n",
              "4  CHC     NL  2012  613  759  ...         NaN           NaN  162  0.335  0.424\n",
              "\n",
              "[5 rows x 14 columns]"
            ]
          },
          "metadata": {
            "tags": []
          },
          "execution_count": 201
        }
      ]
    },
    {
      "cell_type": "code",
      "metadata": {
        "id": "Lr_y_G_Hq8Lx",
        "colab_type": "code",
        "colab": {}
      },
      "source": [
        "df['RD'] = df['RS'] - df['RA']"
      ],
      "execution_count": 0,
      "outputs": []
    },
    {
      "cell_type": "code",
      "metadata": {
        "id": "fYbrZ_hprJ5F",
        "colab_type": "code",
        "colab": {}
      },
      "source": [
        "df2 = df[df['Year'] < 2002]"
      ],
      "execution_count": 0,
      "outputs": []
    },
    {
      "cell_type": "code",
      "metadata": {
        "id": "UGzk6RgmrmR3",
        "colab_type": "code",
        "colab": {
          "base_uri": "https://localhost:8080/",
          "height": 499
        },
        "outputId": "346c1495-9cf2-406e-c0af-5370f368aec5"
      },
      "source": [
        "plt.figure(figsize=(12,8))\n",
        "plt.subplot(2,2,1)\n",
        "plt.hist(df2['RS'],bins=50)\n",
        "plt.title('Runs Scored')\n",
        "plt.subplot(2,2,2)\n",
        "plt.hist(df2['RA'],bins=50)\n",
        "plt.title('Runs Against')\n",
        "plt.subplot(2,2,3)\n",
        "plt.hist(df2['OBP'],bins=50)\n",
        "plt.title('OBP')\n",
        "plt.subplot(2,2,4)\n",
        "plt.hist(df2['SLG'],bins=50)\n",
        "plt.title('SLG')\n",
        "plt.show()"
      ],
      "execution_count": 204,
      "outputs": [
        {
          "output_type": "display_data",
          "data": {
            "image/png": "[encoded data removed]",
            "text/plain": [
              "<Figure size 864x576 with 4 Axes>"
            ]
          },
          "metadata": {
            "tags": [],
            "needs_background": "light"
          }
        }
      ]
    },
    {
      "cell_type": "code",
      "metadata": {
        "id": "IChHsF_L4Cj_",
        "colab_type": "code",
        "colab": {}
      },
      "source": [
        "df2['Playoff'] = np.where(df2['RankPlayoffs']>=1, 1, 0)"
      ],
      "execution_count": 0,
      "outputs": []
    },
    {
      "cell_type": "code",
      "metadata": {
        "id": "GeXEuEth5FbJ",
        "colab_type": "code",
        "colab": {
          "base_uri": "https://localhost:8080/",
          "height": 206
        },
        "outputId": "0bd27da9-a4a6-47f0-dc73-dc88ee82993d"
      },
      "source": [
        "df2.head()"
      ],
      "execution_count": 206,
      "outputs": [
        {
          "output_type": "execute_result",
          "data": {
            "text/html": [
              "<div>\n",
              "<style scoped>\n",
              "    .dataframe tbody tr th:only-of-type {\n",
              "        vertical-align: middle;\n",
              "    }\n",
              "\n",
              "    .dataframe tbody tr th {\n",
              "        vertical-align: top;\n",
              "    }\n",
              "\n",
              "    .dataframe thead th {\n",
              "        text-align: right;\n",
              "    }\n",
              "</style>\n",
              "<table border=\"1\" class=\"dataframe\">\n",
              "  <thead>\n",
              "    <tr style=\"text-align: right;\">\n",
              "      <th></th>\n",
              "      <th>Team</th>\n",
              "      <th>League</th>\n",
              "      <th>Year</th>\n",
              "      <th>RS</th>\n",
              "      <th>RA</th>\n",
              "      <th>W</th>\n",
              "      <th>OBP</th>\n",
              "      <th>SLG</th>\n",
              "      <th>BA</th>\n",
              "      <th>RankSeason</th>\n",
              "      <th>RankPlayoffs</th>\n",
              "      <th>G</th>\n",
              "      <th>OOBP</th>\n",
              "      <th>OSLG</th>\n",
              "      <th>RD</th>\n",
              "      <th>Playoff</th>\n",
              "    </tr>\n",
              "  </thead>\n",
              "  <tbody>\n",
              "    <tr>\n",
              "      <th>330</th>\n",
              "      <td>ANA</td>\n",
              "      <td>AL</td>\n",
              "      <td>2001</td>\n",
              "      <td>691</td>\n",
              "      <td>730</td>\n",
              "      <td>75</td>\n",
              "      <td>0.327</td>\n",
              "      <td>0.405</td>\n",
              "      <td>0.261</td>\n",
              "      <td>NaN</td>\n",
              "      <td>NaN</td>\n",
              "      <td>162</td>\n",
              "      <td>0.331</td>\n",
              "      <td>0.412</td>\n",
              "      <td>-39</td>\n",
              "      <td>0</td>\n",
              "    </tr>\n",
              "    <tr>\n",
              "      <th>331</th>\n",
              "      <td>ARI</td>\n",
              "      <td>NL</td>\n",
              "      <td>2001</td>\n",
              "      <td>818</td>\n",
              "      <td>677</td>\n",
              "      <td>92</td>\n",
              "      <td>0.341</td>\n",
              "      <td>0.442</td>\n",
              "      <td>0.267</td>\n",
              "      <td>5.0</td>\n",
              "      <td>1.0</td>\n",
              "      <td>162</td>\n",
              "      <td>0.311</td>\n",
              "      <td>0.404</td>\n",
              "      <td>141</td>\n",
              "      <td>1</td>\n",
              "    </tr>\n",
              "    <tr>\n",
              "      <th>332</th>\n",
              "      <td>ATL</td>\n",
              "      <td>NL</td>\n",
              "      <td>2001</td>\n",
              "      <td>729</td>\n",
              "      <td>643</td>\n",
              "      <td>88</td>\n",
              "      <td>0.324</td>\n",
              "      <td>0.412</td>\n",
              "      <td>0.260</td>\n",
              "      <td>7.0</td>\n",
              "      <td>3.0</td>\n",
              "      <td>162</td>\n",
              "      <td>0.314</td>\n",
              "      <td>0.384</td>\n",
              "      <td>86</td>\n",
              "      <td>1</td>\n",
              "    </tr>\n",
              "    <tr>\n",
              "      <th>333</th>\n",
              "      <td>BAL</td>\n",
              "      <td>AL</td>\n",
              "      <td>2001</td>\n",
              "      <td>687</td>\n",
              "      <td>829</td>\n",
              "      <td>63</td>\n",
              "      <td>0.319</td>\n",
              "      <td>0.380</td>\n",
              "      <td>0.248</td>\n",
              "      <td>NaN</td>\n",
              "      <td>NaN</td>\n",
              "      <td>162</td>\n",
              "      <td>0.337</td>\n",
              "      <td>0.439</td>\n",
              "      <td>-142</td>\n",
              "      <td>0</td>\n",
              "    </tr>\n",
              "    <tr>\n",
              "      <th>334</th>\n",
              "      <td>BOS</td>\n",
              "      <td>AL</td>\n",
              "      <td>2001</td>\n",
              "      <td>772</td>\n",
              "      <td>745</td>\n",
              "      <td>82</td>\n",
              "      <td>0.334</td>\n",
              "      <td>0.439</td>\n",
              "      <td>0.266</td>\n",
              "      <td>NaN</td>\n",
              "      <td>NaN</td>\n",
              "      <td>161</td>\n",
              "      <td>0.329</td>\n",
              "      <td>0.393</td>\n",
              "      <td>27</td>\n",
              "      <td>0</td>\n",
              "    </tr>\n",
              "  </tbody>\n",
              "</table>\n",
              "</div>"
            ],
            "text/plain": [
              "    Team League  Year   RS   RA  ...    G   OOBP   OSLG   RD  Playoff\n",
              "330  ANA     AL  2001  691  730  ...  162  0.331  0.412  -39        0\n",
              "331  ARI     NL  2001  818  677  ...  162  0.311  0.404  141        1\n",
              "332  ATL     NL  2001  729  643  ...  162  0.314  0.384   86        1\n",
              "333  BAL     AL  2001  687  829  ...  162  0.337  0.439 -142        0\n",
              "334  BOS     AL  2001  772  745  ...  161  0.329  0.393   27        0\n",
              "\n",
              "[5 rows x 16 columns]"
            ]
          },
          "metadata": {
            "tags": []
          },
          "execution_count": 206
        }
      ]
    },
    {
      "cell_type": "code",
      "metadata": {
        "id": "aLYuLSDQvlXv",
        "colab_type": "code",
        "colab": {
          "base_uri": "https://localhost:8080/",
          "height": 404
        },
        "outputId": "191f3877-412b-4577-f8c3-6ab928ec95e2"
      },
      "source": [
        "plt.figure(figsize=(10,6))\n",
        "plt.scatter(x='W',y='RS',data=df2[df2['Playoff'] == 0], color='b')\n",
        "plt.scatter(x='W',y='RS',data=df2[df2['Playoff'] == 1],color='r')\n",
        "plt.title('Wins Vs. Runs Scored (Playoff Teams in Red)')\n",
        "plt.xlabel('Wins')\n",
        "plt.ylabel('Runs Scored')\n",
        "plt.axvline(x=99)\n",
        "plt.show()"
      ],
      "execution_count": 208,
      "outputs": [
        {
          "output_type": "display_data",
          "data": {
            "image/png": "[encoded data removed]",
            "text/plain": [
              "<Figure size 720x432 with 1 Axes>"
            ]
          },
          "metadata": {
            "tags": [],
            "needs_background": "light"
          }
        }
      ]
    },
    {
      "cell_type": "code",
      "metadata": {
        "id": "-nE-bFjlyWxO",
        "colab_type": "code",
        "colab": {
          "base_uri": "https://localhost:8080/",
          "height": 404
        },
        "outputId": "6b69f14e-00c6-485c-d1c2-477533fff43f"
      },
      "source": [
        "plt.figure(figsize=(10,6))\n",
        "sns.scatterplot(x='RD',y='W',data=df2[df2['Playoff'] == 0])\n",
        "sns.scatterplot(x='RD',y='W',data=df2[df2['Playoff'] == 1],color='r')\n",
        "plt.title('Runs Diffential Vs. Wins (Playoff Teams in Red)')\n",
        "plt.xlabel('Runs Differential')\n",
        "plt.ylabel('Wins')\n",
        "plt.show()"
      ],
      "execution_count": 209,
      "outputs": [
        {
          "output_type": "display_data",
          "data": {
            "image/png": "[encoded data removed]",
            "text/plain": [
              "<Figure size 720x432 with 1 Axes>"
            ]
          },
          "metadata": {
            "tags": [],
            "needs_background": "light"
          }
        }
      ]
    },
    {
      "cell_type": "code",
      "metadata": {
        "id": "LM_GOV-V0pBI",
        "colab_type": "code",
        "colab": {
          "base_uri": "https://localhost:8080/",
          "height": 35
        },
        "outputId": "d429d4c1-a805-41f4-d9a4-2ec4e4477830"
      },
      "source": [
        "df2['RD'].corr(df2['W'])"
      ],
      "execution_count": 210,
      "outputs": [
        {
          "output_type": "execute_result",
          "data": {
            "text/plain": [
              "0.9385149822977124"
            ]
          },
          "metadata": {
            "tags": []
          },
          "execution_count": 210
        }
      ]
    },
    {
      "cell_type": "code",
      "metadata": {
        "id": "CIDKprel6Ic2",
        "colab_type": "code",
        "colab": {
          "base_uri": "https://localhost:8080/",
          "height": 452
        },
        "outputId": "43945a84-3299-4db2-f91d-5623cdc4173c"
      },
      "source": [
        "corrcheck = df2[['RD', 'W', 'Playoff']].copy()\n",
        "g = sns.pairplot(corrcheck, hue = 'Playoff',vars=[\"RD\", \"W\"])\n",
        "g.fig.set_size_inches(12,6)"
      ],
      "execution_count": 211,
      "outputs": [
        {
          "output_type": "display_data",
          "data": {
            "image/png": "[encoded data removed]",
            "text/plain": [
              "<Figure size 864x432 with 6 Axes>"
            ]
          },
          "metadata": {
            "tags": [],
            "needs_background": "light"
          }
        }
      ]
    },
    {
      "cell_type": "code",
      "metadata": {
        "id": "cR45VplR62Zx",
        "colab_type": "code",
        "colab": {}
      },
      "source": [
        "saber = df2[['OBP','SLG','BA','RS']]"
      ],
      "execution_count": 0,
      "outputs": []
    },
    {
      "cell_type": "code",
      "metadata": {
        "id": "0jLVdE4L7V9f",
        "colab_type": "code",
        "colab": {
          "base_uri": "https://localhost:8080/",
          "height": 175
        },
        "outputId": "09f7bb2b-ca3a-4a31-e7d1-e8450f502c64"
      },
      "source": [
        "saber.corr()"
      ],
      "execution_count": 213,
      "outputs": [
        {
          "output_type": "execute_result",
          "data": {
            "text/html": [
              "<div>\n",
              "<style scoped>\n",
              "    .dataframe tbody tr th:only-of-type {\n",
              "        vertical-align: middle;\n",
              "    }\n",
              "\n",
              "    .dataframe tbody tr th {\n",
              "        vertical-align: top;\n",
              "    }\n",
              "\n",
              "    .dataframe thead th {\n",
              "        text-align: right;\n",
              "    }\n",
              "</style>\n",
              "<table border=\"1\" class=\"dataframe\">\n",
              "  <thead>\n",
              "    <tr style=\"text-align: right;\">\n",
              "      <th></th>\n",
              "      <th>OBP</th>\n",
              "      <th>SLG</th>\n",
              "      <th>BA</th>\n",
              "      <th>RS</th>\n",
              "    </tr>\n",
              "  </thead>\n",
              "  <tbody>\n",
              "    <tr>\n",
              "      <th>OBP</th>\n",
              "      <td>1.000000</td>\n",
              "      <td>0.806154</td>\n",
              "      <td>0.854055</td>\n",
              "      <td>0.904909</td>\n",
              "    </tr>\n",
              "    <tr>\n",
              "      <th>SLG</th>\n",
              "      <td>0.806154</td>\n",
              "      <td>1.000000</td>\n",
              "      <td>0.814068</td>\n",
              "      <td>0.926384</td>\n",
              "    </tr>\n",
              "    <tr>\n",
              "      <th>BA</th>\n",
              "      <td>0.854055</td>\n",
              "      <td>0.814068</td>\n",
              "      <td>1.000000</td>\n",
              "      <td>0.831625</td>\n",
              "    </tr>\n",
              "    <tr>\n",
              "      <th>RS</th>\n",
              "      <td>0.904909</td>\n",
              "      <td>0.926384</td>\n",
              "      <td>0.831625</td>\n",
              "      <td>1.000000</td>\n",
              "    </tr>\n",
              "  </tbody>\n",
              "</table>\n",
              "</div>"
            ],
            "text/plain": [
              "          OBP       SLG        BA        RS\n",
              "OBP  1.000000  0.806154  0.854055  0.904909\n",
              "SLG  0.806154  1.000000  0.814068  0.926384\n",
              "BA   0.854055  0.814068  1.000000  0.831625\n",
              "RS   0.904909  0.926384  0.831625  1.000000"
            ]
          },
          "metadata": {
            "tags": []
          },
          "execution_count": 213
        }
      ]
    },
    {
      "cell_type": "code",
      "metadata": {
        "id": "7S-A4sgU7cg_",
        "colab_type": "code",
        "colab": {
          "base_uri": "https://localhost:8080/",
          "height": 329
        },
        "outputId": "56bb8250-c9e7-4058-f406-eb897cd63dd6"
      },
      "source": [
        "df2.isnull().sum()"
      ],
      "execution_count": 214,
      "outputs": [
        {
          "output_type": "execute_result",
          "data": {
            "text/plain": [
              "Team              0\n",
              "League            0\n",
              "Year              0\n",
              "RS                0\n",
              "RA                0\n",
              "W                 0\n",
              "OBP               0\n",
              "SLG               0\n",
              "BA                0\n",
              "RankSeason      748\n",
              "RankPlayoffs    748\n",
              "G                 0\n",
              "OOBP            812\n",
              "OSLG            812\n",
              "RD                0\n",
              "Playoff           0\n",
              "dtype: int64"
            ]
          },
          "metadata": {
            "tags": []
          },
          "execution_count": 214
        }
      ]
    },
    {
      "cell_type": "code",
      "metadata": {
        "id": "oKzR2NP67zH8",
        "colab_type": "code",
        "colab": {}
      },
      "source": [
        "df2.drop(['RankSeason','RankPlayoffs'],axis=1,inplace=True)\n",
        "df2.dropna(inplace=True)"
      ],
      "execution_count": 0,
      "outputs": []
    },
    {
      "cell_type": "code",
      "metadata": {
        "id": "9QXYCGEn_6-N",
        "colab_type": "code",
        "colab": {
          "base_uri": "https://localhost:8080/",
          "height": 293
        },
        "outputId": "5e355fd8-1f88-472d-b961-2b315336aaf0"
      },
      "source": [
        "df2.isnull().sum()"
      ],
      "execution_count": 216,
      "outputs": [
        {
          "output_type": "execute_result",
          "data": {
            "text/plain": [
              "Team       0\n",
              "League     0\n",
              "Year       0\n",
              "RS         0\n",
              "RA         0\n",
              "W          0\n",
              "OBP        0\n",
              "SLG        0\n",
              "BA         0\n",
              "G          0\n",
              "OOBP       0\n",
              "OSLG       0\n",
              "RD         0\n",
              "Playoff    0\n",
              "dtype: int64"
            ]
          },
          "metadata": {
            "tags": []
          },
          "execution_count": 216
        }
      ]
    },
    {
      "cell_type": "code",
      "metadata": {
        "id": "iGPgB7zH8S9R",
        "colab_type": "code",
        "colab": {}
      },
      "source": [
        "from sklearn.feature_selection import SelectKBest\n",
        "from sklearn.feature_selection import chi2"
      ],
      "execution_count": 0,
      "outputs": []
    },
    {
      "cell_type": "code",
      "metadata": {
        "id": "7t7b67z78iOZ",
        "colab_type": "code",
        "colab": {
          "base_uri": "https://localhost:8080/",
          "height": 206
        },
        "outputId": "ce9fbcf0-383d-4880-fdf6-f5c6cd8e56a2"
      },
      "source": [
        "df2.head()"
      ],
      "execution_count": 218,
      "outputs": [
        {
          "output_type": "execute_result",
          "data": {
            "text/html": [
              "<div>\n",
              "<style scoped>\n",
              "    .dataframe tbody tr th:only-of-type {\n",
              "        vertical-align: middle;\n",
              "    }\n",
              "\n",
              "    .dataframe tbody tr th {\n",
              "        vertical-align: top;\n",
              "    }\n",
              "\n",
              "    .dataframe thead th {\n",
              "        text-align: right;\n",
              "    }\n",
              "</style>\n",
              "<table border=\"1\" class=\"dataframe\">\n",
              "  <thead>\n",
              "    <tr style=\"text-align: right;\">\n",
              "      <th></th>\n",
              "      <th>Team</th>\n",
              "      <th>League</th>\n",
              "      <th>Year</th>\n",
              "      <th>RS</th>\n",
              "      <th>RA</th>\n",
              "      <th>W</th>\n",
              "      <th>OBP</th>\n",
              "      <th>SLG</th>\n",
              "      <th>BA</th>\n",
              "      <th>G</th>\n",
              "      <th>OOBP</th>\n",
              "      <th>OSLG</th>\n",
              "      <th>RD</th>\n",
              "      <th>Playoff</th>\n",
              "    </tr>\n",
              "  </thead>\n",
              "  <tbody>\n",
              "    <tr>\n",
              "      <th>330</th>\n",
              "      <td>ANA</td>\n",
              "      <td>AL</td>\n",
              "      <td>2001</td>\n",
              "      <td>691</td>\n",
              "      <td>730</td>\n",
              "      <td>75</td>\n",
              "      <td>0.327</td>\n",
              "      <td>0.405</td>\n",
              "      <td>0.261</td>\n",
              "      <td>162</td>\n",
              "      <td>0.331</td>\n",
              "      <td>0.412</td>\n",
              "      <td>-39</td>\n",
              "      <td>0</td>\n",
              "    </tr>\n",
              "    <tr>\n",
              "      <th>331</th>\n",
              "      <td>ARI</td>\n",
              "      <td>NL</td>\n",
              "      <td>2001</td>\n",
              "      <td>818</td>\n",
              "      <td>677</td>\n",
              "      <td>92</td>\n",
              "      <td>0.341</td>\n",
              "      <td>0.442</td>\n",
              "      <td>0.267</td>\n",
              "      <td>162</td>\n",
              "      <td>0.311</td>\n",
              "      <td>0.404</td>\n",
              "      <td>141</td>\n",
              "      <td>1</td>\n",
              "    </tr>\n",
              "    <tr>\n",
              "      <th>332</th>\n",
              "      <td>ATL</td>\n",
              "      <td>NL</td>\n",
              "      <td>2001</td>\n",
              "      <td>729</td>\n",
              "      <td>643</td>\n",
              "      <td>88</td>\n",
              "      <td>0.324</td>\n",
              "      <td>0.412</td>\n",
              "      <td>0.260</td>\n",
              "      <td>162</td>\n",
              "      <td>0.314</td>\n",
              "      <td>0.384</td>\n",
              "      <td>86</td>\n",
              "      <td>1</td>\n",
              "    </tr>\n",
              "    <tr>\n",
              "      <th>333</th>\n",
              "      <td>BAL</td>\n",
              "      <td>AL</td>\n",
              "      <td>2001</td>\n",
              "      <td>687</td>\n",
              "      <td>829</td>\n",
              "      <td>63</td>\n",
              "      <td>0.319</td>\n",
              "      <td>0.380</td>\n",
              "      <td>0.248</td>\n",
              "      <td>162</td>\n",
              "      <td>0.337</td>\n",
              "      <td>0.439</td>\n",
              "      <td>-142</td>\n",
              "      <td>0</td>\n",
              "    </tr>\n",
              "    <tr>\n",
              "      <th>334</th>\n",
              "      <td>BOS</td>\n",
              "      <td>AL</td>\n",
              "      <td>2001</td>\n",
              "      <td>772</td>\n",
              "      <td>745</td>\n",
              "      <td>82</td>\n",
              "      <td>0.334</td>\n",
              "      <td>0.439</td>\n",
              "      <td>0.266</td>\n",
              "      <td>161</td>\n",
              "      <td>0.329</td>\n",
              "      <td>0.393</td>\n",
              "      <td>27</td>\n",
              "      <td>0</td>\n",
              "    </tr>\n",
              "  </tbody>\n",
              "</table>\n",
              "</div>"
            ],
            "text/plain": [
              "    Team League  Year   RS   RA   W  ...     BA    G   OOBP   OSLG   RD  Playoff\n",
              "330  ANA     AL  2001  691  730  75  ...  0.261  162  0.331  0.412  -39        0\n",
              "331  ARI     NL  2001  818  677  92  ...  0.267  162  0.311  0.404  141        1\n",
              "332  ATL     NL  2001  729  643  88  ...  0.260  162  0.314  0.384   86        1\n",
              "333  BAL     AL  2001  687  829  63  ...  0.248  162  0.337  0.439 -142        0\n",
              "334  BOS     AL  2001  772  745  82  ...  0.266  161  0.329  0.393   27        0\n",
              "\n",
              "[5 rows x 14 columns]"
            ]
          },
          "metadata": {
            "tags": []
          },
          "execution_count": 218
        }
      ]
    },
    {
      "cell_type": "code",
      "metadata": {
        "id": "C21tGGlW8XlS",
        "colab_type": "code",
        "colab": {
          "base_uri": "https://localhost:8080/",
          "height": 90
        },
        "outputId": "1fcd586f-a7de-4bd4-9732-061f0ca196c5"
      },
      "source": [
        "X = df2.iloc[:,np.r_[3:9, 10,11,13]]\n",
        "y = df2.iloc[:,9]\n",
        "bestfeatures = SelectKBest(score_func=chi2, k=3)\n",
        "fit = bestfeatures.fit(X,y)\n",
        "dfscores = pd.DataFrame(fit.scores_)\n",
        "dfcolumns = pd.DataFrame(X.columns)\n",
        "#Visualization\n",
        "featureScores = pd.concat([dfcolumns,dfscores],axis=1)\n",
        "featureScores.columns = ['Feature','Score']\n",
        "print(featureScores.nlargest(3,'Score'))"
      ],
      "execution_count": 219,
      "outputs": [
        {
          "output_type": "stream",
          "text": [
            "  Feature      Score\n",
            "1      RA  18.476360\n",
            "2       W   4.448529\n",
            "0      RS   3.807875\n"
          ],
          "name": "stdout"
        }
      ]
    },
    {
      "cell_type": "code",
      "metadata": {
        "id": "Qnkv5ZIm-KAV",
        "colab_type": "code",
        "colab": {
          "base_uri": "https://localhost:8080/",
          "height": 543
        },
        "outputId": "ca7d3a7d-84c4-41ed-d625-e8c24468b3a3"
      },
      "source": [
        "X = df2.iloc[:,np.r_[3:9, 10,11,13]]\n",
        "y = df2.iloc[:,9]\n",
        "from sklearn.ensemble import ExtraTreesClassifier\n",
        " \n",
        "model = ExtraTreesClassifier()\n",
        "model.fit(X,y)\n",
        "print(model.feature_importances_)\n",
        "feat_importances = pd.Series(model.feature_importances_, index=X.columns)\n",
        "feat_importances.nlargest(3).plot(kind='barh', figsize = (12,8))\n",
        "plt.xlabel('Importance', fontsize = 20)\n",
        "plt.ylabel('Statistic', fontsize = 20)\n",
        "plt.show()"
      ],
      "execution_count": 221,
      "outputs": [
        {
          "output_type": "stream",
          "text": [
            "[0.10881533 0.12075867 0.12763587 0.12931182 0.11486461 0.12256575\n",
            " 0.11873607 0.12623956 0.03107232]\n"
          ],
          "name": "stdout"
        },
        {
          "output_type": "display_data",
          "data": {
            "image/png": "[encoded data removed]",
            "text/plain": [
              "<Figure size 864x576 with 1 Axes>"
            ]
          },
          "metadata": {
            "tags": [],
            "needs_background": "light"
          }
        }
      ]
    },
    {
      "cell_type": "code",
      "metadata": {
        "id": "SbJNg0oE-bAP",
        "colab_type": "code",
        "colab": {
          "base_uri": "https://localhost:8080/",
          "height": 35
        },
        "outputId": "bc7530b1-5ddb-4690-93a4-f7b9b85c8936"
      },
      "source": [
        "y = df2['RS'].values\n",
        "X = df2[['OBP','SLG']].values\n",
        "from sklearn.linear_model import LinearRegression\n",
        "rs = LinearRegression()\n",
        "rs.fit(X,y)"
      ],
      "execution_count": 222,
      "outputs": [
        {
          "output_type": "execute_result",
          "data": {
            "text/plain": [
              "LinearRegression(copy_X=True, fit_intercept=True, n_jobs=None, normalize=False)"
            ]
          },
          "metadata": {
            "tags": []
          },
          "execution_count": 222
        }
      ]
    },
    {
      "cell_type": "code",
      "metadata": {
        "id": "-PIWGhLz_Ccn",
        "colab_type": "code",
        "colab": {
          "base_uri": "https://localhost:8080/",
          "height": 495
        },
        "outputId": "2bb8e47d-2575-4e8f-91c5-16c848e4da92"
      },
      "source": [
        "import statsmodels.api as sm\n",
        "from scipy import stats\n",
        "\n",
        "X2 = sm.add_constant(X)\n",
        "est = sm.OLS(y, X2)\n",
        "est2 = est.fit()\n",
        "print(est2.summary())"
      ],
      "execution_count": 223,
      "outputs": [
        {
          "output_type": "stream",
          "text": [
            "                            OLS Regression Results                            \n",
            "==============================================================================\n",
            "Dep. Variable:                      y   R-squared:                       0.922\n",
            "Model:                            OLS   Adj. R-squared:                  0.920\n",
            "Method:                 Least Squares   F-statistic:                     513.7\n",
            "Date:                Fri, 01 May 2020   Prob (F-statistic):           6.65e-49\n",
            "Time:                        17:44:13   Log-Likelihood:                -408.87\n",
            "No. Observations:                  90   AIC:                             823.7\n",
            "Df Residuals:                      87   BIC:                             831.2\n",
            "Df Model:                           2                                         \n",
            "Covariance Type:            nonrobust                                         \n",
            "==============================================================================\n",
            "                 coef    std err          t      P>|t|      [0.025      0.975]\n",
            "------------------------------------------------------------------------------\n",
            "const      -1014.0183     60.763    -16.688      0.000   -1134.791    -893.246\n",
            "x1          3562.3940    267.635     13.311      0.000    3030.441    4094.347\n",
            "x2          1412.5699    149.332      9.459      0.000    1115.757    1709.383\n",
            "==============================================================================\n",
            "Omnibus:                        1.963   Durbin-Watson:                   1.896\n",
            "Prob(Omnibus):                  0.375   Jarque-Bera (JB):                1.795\n",
            "Skew:                           0.343   Prob(JB):                        0.408\n",
            "Kurtosis:                       2.917   Cond. No.                         138.\n",
            "==============================================================================\n",
            "\n",
            "Warnings:\n",
            "[1] Standard Errors assume that the covariance matrix of the errors is correctly specified.\n"
          ],
          "name": "stdout"
        }
      ]
    },
    {
      "cell_type": "code",
      "metadata": {
        "id": "6bfiBi0i_E0Q",
        "colab_type": "code",
        "colab": {
          "base_uri": "https://localhost:8080/",
          "height": 495
        },
        "outputId": "344be4b3-e388-4f13-f871-de803852340e"
      },
      "source": [
        "y = df2['RA'].values\n",
        "X = df2[['OOBP','OSLG']].values\n",
        "ra = LinearRegression()\n",
        "ra.fit(X,y)\n",
        "X2 = sm.add_constant(X)\n",
        "est = sm.OLS(y, X2)\n",
        "est2 = est.fit()\n",
        "print(est2.summary())"
      ],
      "execution_count": 225,
      "outputs": [
        {
          "output_type": "stream",
          "text": [
            "                            OLS Regression Results                            \n",
            "==============================================================================\n",
            "Dep. Variable:                      y   R-squared:                       0.907\n",
            "Model:                            OLS   Adj. R-squared:                  0.905\n",
            "Method:                 Least Squares   F-statistic:                     425.8\n",
            "Date:                Fri, 01 May 2020   Prob (F-statistic):           1.16e-45\n",
            "Time:                        17:44:26   Log-Likelihood:                -418.27\n",
            "No. Observations:                  90   AIC:                             842.5\n",
            "Df Residuals:                      87   BIC:                             850.0\n",
            "Df Model:                           2                                         \n",
            "Covariance Type:            nonrobust                                         \n",
            "==============================================================================\n",
            "                 coef    std err          t      P>|t|      [0.025      0.975]\n",
            "------------------------------------------------------------------------------\n",
            "const       -837.3779     60.255    -13.897      0.000    -957.142    -717.614\n",
            "x1          2913.5995    291.971      9.979      0.000    2333.276    3493.923\n",
            "x2          1514.2860    175.428      8.632      0.000    1165.604    1862.968\n",
            "==============================================================================\n",
            "Omnibus:                        3.836   Durbin-Watson:                   2.160\n",
            "Prob(Omnibus):                  0.147   Jarque-Bera (JB):                3.104\n",
            "Skew:                          -0.392   Prob(JB):                        0.212\n",
            "Kurtosis:                       3.461   Cond. No.                         139.\n",
            "==============================================================================\n",
            "\n",
            "Warnings:\n",
            "[1] Standard Errors assume that the covariance matrix of the errors is correctly specified.\n"
          ],
          "name": "stdout"
        }
      ]
    },
    {
      "cell_type": "code",
      "metadata": {
        "id": "N5j-ap70BcKc",
        "colab_type": "code",
        "colab": {
          "base_uri": "https://localhost:8080/",
          "height": 476
        },
        "outputId": "5e0aa853-ba0c-4389-cb73-95adc96c6e7a"
      },
      "source": [
        "y = df2[['W']]\n",
        "X = df2[['RD']]\n",
        "w = LinearRegression()\n",
        "w.fit(X,y)\n",
        "X2 = sm.add_constant(X)\n",
        "est = sm.OLS(y, X2)\n",
        "est2 = est.fit()\n",
        "print(est2.summary())"
      ],
      "execution_count": 226,
      "outputs": [
        {
          "output_type": "stream",
          "text": [
            "                            OLS Regression Results                            \n",
            "==============================================================================\n",
            "Dep. Variable:                      W   R-squared:                       0.910\n",
            "Model:                            OLS   Adj. R-squared:                  0.909\n",
            "Method:                 Least Squares   F-statistic:                     891.0\n",
            "Date:                Fri, 01 May 2020   Prob (F-statistic):           8.16e-48\n",
            "Time:                        17:44:37   Log-Likelihood:                -240.73\n",
            "No. Observations:                  90   AIC:                             485.5\n",
            "Df Residuals:                      88   BIC:                             490.5\n",
            "Df Model:                           1                                         \n",
            "Covariance Type:            nonrobust                                         \n",
            "==============================================================================\n",
            "                 coef    std err          t      P>|t|      [0.025      0.975]\n",
            "------------------------------------------------------------------------------\n",
            "const         80.9222      0.374    216.226      0.000      80.178      81.666\n",
            "RD             0.0992      0.003     29.849      0.000       0.093       0.106\n",
            "==============================================================================\n",
            "Omnibus:                        4.250   Durbin-Watson:                   1.986\n",
            "Prob(Omnibus):                  0.119   Jarque-Bera (JB):                3.519\n",
            "Skew:                          -0.438   Prob(JB):                        0.172\n",
            "Kurtosis:                       3.414   Cond. No.                         113.\n",
            "==============================================================================\n",
            "\n",
            "Warnings:\n",
            "[1] Standard Errors assume that the covariance matrix of the errors is correctly specified.\n"
          ],
          "name": "stdout"
        }
      ]
    },
    {
      "cell_type": "code",
      "metadata": {
        "id": "AUUoeIUuR9J8",
        "colab_type": "code",
        "colab": {
          "base_uri": "https://localhost:8080/",
          "height": 81
        },
        "outputId": "c9fe3861-e4b0-43c1-b935-c79a15b65d89"
      },
      "source": [
        "OAK = df[(df['Team'] == 'OAK') & (df['Year'] == 2001)]\n",
        "OAK"
      ],
      "execution_count": 227,
      "outputs": [
        {
          "output_type": "execute_result",
          "data": {
            "text/html": [
              "<div>\n",
              "<style scoped>\n",
              "    .dataframe tbody tr th:only-of-type {\n",
              "        vertical-align: middle;\n",
              "    }\n",
              "\n",
              "    .dataframe tbody tr th {\n",
              "        vertical-align: top;\n",
              "    }\n",
              "\n",
              "    .dataframe thead th {\n",
              "        text-align: right;\n",
              "    }\n",
              "</style>\n",
              "<table border=\"1\" class=\"dataframe\">\n",
              "  <thead>\n",
              "    <tr style=\"text-align: right;\">\n",
              "      <th></th>\n",
              "      <th>Team</th>\n",
              "      <th>League</th>\n",
              "      <th>Year</th>\n",
              "      <th>RS</th>\n",
              "      <th>RA</th>\n",
              "      <th>W</th>\n",
              "      <th>OBP</th>\n",
              "      <th>SLG</th>\n",
              "      <th>BA</th>\n",
              "      <th>RankSeason</th>\n",
              "      <th>RankPlayoffs</th>\n",
              "      <th>G</th>\n",
              "      <th>OOBP</th>\n",
              "      <th>OSLG</th>\n",
              "      <th>RD</th>\n",
              "    </tr>\n",
              "  </thead>\n",
              "  <tbody>\n",
              "    <tr>\n",
              "      <th>350</th>\n",
              "      <td>OAK</td>\n",
              "      <td>AL</td>\n",
              "      <td>2001</td>\n",
              "      <td>884</td>\n",
              "      <td>645</td>\n",
              "      <td>102</td>\n",
              "      <td>0.345</td>\n",
              "      <td>0.439</td>\n",
              "      <td>0.264</td>\n",
              "      <td>2.0</td>\n",
              "      <td>4.0</td>\n",
              "      <td>162</td>\n",
              "      <td>0.308</td>\n",
              "      <td>0.38</td>\n",
              "      <td>239</td>\n",
              "    </tr>\n",
              "  </tbody>\n",
              "</table>\n",
              "</div>"
            ],
            "text/plain": [
              "    Team League  Year   RS   RA  ...  RankPlayoffs    G   OOBP  OSLG   RD\n",
              "350  OAK     AL  2001  884  645  ...           4.0  162  0.308  0.38  239\n",
              "\n",
              "[1 rows x 15 columns]"
            ]
          },
          "metadata": {
            "tags": []
          },
          "execution_count": 227
        }
      ]
    },
    {
      "cell_type": "code",
      "metadata": {
        "id": "vO6YdKLVSpl8",
        "colab_type": "code",
        "colab": {
          "base_uri": "https://localhost:8080/",
          "height": 35
        },
        "outputId": "b606f434-b496-483a-b8c6-032d15f34061"
      },
      "source": [
        "rs.predict([[0.345,0.439]])"
      ],
      "execution_count": 228,
      "outputs": [
        {
          "output_type": "execute_result",
          "data": {
            "text/plain": [
              "array([835.12581563])"
            ]
          },
          "metadata": {
            "tags": []
          },
          "execution_count": 228
        }
      ]
    },
    {
      "cell_type": "markdown",
      "metadata": {
        "id": "ck1OJKHQT9G7",
        "colab_type": "text"
      },
      "source": [
        "The Oakland Athletics will score 835 runs"
      ]
    },
    {
      "cell_type": "code",
      "metadata": {
        "id": "Jx_V5udjTYeE",
        "colab_type": "code",
        "colab": {
          "base_uri": "https://localhost:8080/",
          "height": 35
        },
        "outputId": "c2193004-053c-42f9-d6bd-01e03e7eb742"
      },
      "source": [
        "ra.predict([[0.308,0.380]])"
      ],
      "execution_count": 229,
      "outputs": [
        {
          "output_type": "execute_result",
          "data": {
            "text/plain": [
              "array([635.43941722])"
            ]
          },
          "metadata": {
            "tags": []
          },
          "execution_count": 229
        }
      ]
    },
    {
      "cell_type": "markdown",
      "metadata": {
        "id": "Z4vK9xgFUFVF",
        "colab_type": "text"
      },
      "source": [
        "The Oakland Athletics will get 635 runs scored against"
      ]
    },
    {
      "cell_type": "code",
      "metadata": {
        "id": "KXyJY7XOTpGM",
        "colab_type": "code",
        "colab": {
          "base_uri": "https://localhost:8080/",
          "height": 35
        },
        "outputId": "6e35f04a-ec14-40a0-d2b2-437bac795149"
      },
      "source": [
        "w.predict([[239]])"
      ],
      "execution_count": 231,
      "outputs": [
        {
          "output_type": "execute_result",
          "data": {
            "text/plain": [
              "array([[104.62859993]])"
            ]
          },
          "metadata": {
            "tags": []
          },
          "execution_count": 231
        }
      ]
    },
    {
      "cell_type": "markdown",
      "metadata": {
        "id": "6cXZry99UPAs",
        "colab_type": "text"
      },
      "source": [
        "The Oakland Atheltics will win 105 games"
      ]
    },
    {
      "cell_type": "code",
      "metadata": {
        "id": "uKFzeqqXTwHF",
        "colab_type": "code",
        "colab": {
          "base_uri": "https://localhost:8080/",
          "height": 81
        },
        "outputId": "187deed4-cd82-4b90-c160-2ea9d53b6841"
      },
      "source": [
        "OAK_02 = df[(df['Team'] == 'OAK') & (df['Year'] == 2002)]\n",
        "OAK_02"
      ],
      "execution_count": 197,
      "outputs": [
        {
          "output_type": "execute_result",
          "data": {
            "text/html": [
              "<div>\n",
              "<style scoped>\n",
              "    .dataframe tbody tr th:only-of-type {\n",
              "        vertical-align: middle;\n",
              "    }\n",
              "\n",
              "    .dataframe tbody tr th {\n",
              "        vertical-align: top;\n",
              "    }\n",
              "\n",
              "    .dataframe thead th {\n",
              "        text-align: right;\n",
              "    }\n",
              "</style>\n",
              "<table border=\"1\" class=\"dataframe\">\n",
              "  <thead>\n",
              "    <tr style=\"text-align: right;\">\n",
              "      <th></th>\n",
              "      <th>Team</th>\n",
              "      <th>League</th>\n",
              "      <th>Year</th>\n",
              "      <th>RS</th>\n",
              "      <th>RA</th>\n",
              "      <th>W</th>\n",
              "      <th>OBP</th>\n",
              "      <th>SLG</th>\n",
              "      <th>BA</th>\n",
              "      <th>RankSeason</th>\n",
              "      <th>RankPlayoffs</th>\n",
              "      <th>G</th>\n",
              "      <th>OOBP</th>\n",
              "      <th>OSLG</th>\n",
              "      <th>RD</th>\n",
              "    </tr>\n",
              "  </thead>\n",
              "  <tbody>\n",
              "    <tr>\n",
              "      <th>320</th>\n",
              "      <td>OAK</td>\n",
              "      <td>AL</td>\n",
              "      <td>2002</td>\n",
              "      <td>800</td>\n",
              "      <td>654</td>\n",
              "      <td>103</td>\n",
              "      <td>0.339</td>\n",
              "      <td>0.432</td>\n",
              "      <td>0.261</td>\n",
              "      <td>1.0</td>\n",
              "      <td>4.0</td>\n",
              "      <td>162</td>\n",
              "      <td>0.315</td>\n",
              "      <td>0.384</td>\n",
              "      <td>146</td>\n",
              "    </tr>\n",
              "  </tbody>\n",
              "</table>\n",
              "</div>"
            ],
            "text/plain": [
              "    Team League  Year   RS   RA  ...  RankPlayoffs    G   OOBP   OSLG   RD\n",
              "320  OAK     AL  2002  800  654  ...           4.0  162  0.315  0.384  146\n",
              "\n",
              "[1 rows x 15 columns]"
            ]
          },
          "metadata": {
            "tags": []
          },
          "execution_count": 197
        }
      ]
    }
  ]
}